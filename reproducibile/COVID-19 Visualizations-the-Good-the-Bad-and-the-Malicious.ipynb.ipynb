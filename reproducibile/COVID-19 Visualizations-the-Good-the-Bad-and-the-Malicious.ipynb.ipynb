{
 "cells": [
  {
   "cell_type": "markdown",
   "metadata": {
    "slideshow": {
     "slide_type": "slide"
    }
   },
   "source": [
    "# COVID-19 Visualizations, the Good, the Bad and the Malicious\n",
    "\n",
    "> PyData Global, November, 2020\n",
    "### Ron Li \n",
    "> Data science instructor, senior data scientist at Galvanize, Inc"
   ]
  },
  {
   "cell_type": "markdown",
   "metadata": {
    "slideshow": {
     "slide_type": "subslide"
    }
   },
   "source": [
    "# Outline\n",
    "0. Introduction about myself and the project\n",
    "1. A short overview of basic scientific facts about COVID-19\n",
    "2. The critical review of visualization examples\n",
    "3. Lessons learned"
   ]
  },
  {
   "cell_type": "markdown",
   "metadata": {
    "slideshow": {
     "slide_type": "slide"
    }
   },
   "source": [
    "# 0. A little bit about me \n",
    "\n",
    "* Data science instructor at Galvanize, based in LA.\n",
    "    * teaching motto: I teach my students in a way that I want to be taught. \n",
    "* Studied physics (Ph.D. ABD) and electrical engineering (master's degree) at USC\n",
    "* Joined Information Sciences Institute as a research programmer\n",
    "* Published research papers in quantum physics, chemistry and knowledge graph. One paper for each domain.😃\n",
    "* Published a book: [Hands-On Statistics for Data Science](https://www.amazon.com/dp/B08GY7LF3N/ref=tsm_1_tp_tc)\n",
    "    * limited-time promotion code for PyData audience.\n",
    "* A keen fan of **reproducibility** and **first-principle** thinking. "
   ]
  },
  {
   "cell_type": "markdown",
   "metadata": {
    "slideshow": {
     "slide_type": "slide"
    }
   },
   "source": [
    "# 0. Introduction of the project\n",
    "\n",
    "COVID-19, the pandemic that kills more than 1 million people by the beginning of October (When I proposed this talk on May 18th. COVID-19 death toll is 30K+ globally.) It is also the hot topic in data analytics/science. Media, research institutes and data scientists created many visualization projects. Some projects are informative and creative, some are flawed. Quite a few are designed to mislead people without analytical skills. I think it is my duty to make a critical review of them.\n",
    "\n",
    "\n",
    "This project's target audience is **beginners**. There are no fancy machine learning algorithms or parallel computing of thousands of cores. The goal of this project is to educate, to raise awareness and to fight misinformation."
   ]
  },
  {
   "cell_type": "markdown",
   "metadata": {
    "slideshow": {
     "slide_type": "slide"
    }
   },
   "source": [
    "# 1. A short overview of basic scientific facts about COVID-19\n",
    "### 1.1 Define FACT\n",
    "> A scientific fact is a repeatable careful observation or measurement (by experimentation or other means), also called empirical evidence. (Wikipedia)\n",
    "\n",
    "However, from a non-philosophical perspective, a scientific fact can be referred as something that \n",
    "\n",
    "> Was recognized by the scientific community collectively but open to rebuttal.\n",
    "\n",
    "How about ongoing emergence of facts?\n",
    "\n",
    "> Has went through scrutinous scientific examination like peer review or [double blind randomized controlled trial](https://youtu.be/xDjVwXM8ESE?t=66).\n",
    "\n"
   ]
  },
  {
   "cell_type": "markdown",
   "metadata": {
    "slideshow": {
     "slide_type": "slide"
    }
   },
   "source": [
    "# 1. A short overview of basic scientific facts about COVID-19\n",
    "### 1.2 A list of Facts\n",
    "1. COVID-19 virus spreads through air and masks reduce the risk of infection.\n",
    "2. COVID-19 virus is not synthesized. It originally came from animal, likely bats.\n",
    "3. COVID-19 is more deadly than a `common flu`.\n",
    "4. COVID-19 is more damaging for older adults and people who have severe underlying medical conditions.\n",
    "\n",
    "\n",
    "### 1.3 A list of sources of scientific facts\n",
    "1. [World Health Organization](https://www.who.int/)\n",
    "2. [Centers for Disease Control and Prevention, United States](https://www.cdc.gov/coronavirus/)\n",
    "3. [Johns Hopkins Medicine](https://www.hopkinsmedicine.org/)\n",
    "4. [Department of Health & Social Care, UK](https://www.gov.uk/coronavirus)"
   ]
  },
  {
   "cell_type": "markdown",
   "metadata": {
    "slideshow": {
     "slide_type": "slide"
    }
   },
   "source": [
    "# 1. A short overview of basic scientific facts about COVID-19\n",
    "## Criteria to determine the visualization quality\n",
    " 1. What is the information that the visualization tries to convey? Does it agree with the scientific **facts**?\n",
    " 2. What is the quality of the data source?\n",
    " 3. What kind of plot and aesthetic elements do the visualization use? Do such visual elements help or not?\n",
    " \n",
    " > This is a rough mapping of the so-called ggplot2 [grammar](https://www.r-bloggers.com/2014/03/a-simple-introduction-to-the-graphing-philosophy-of-ggplot2/). First, consider the data, then the geometry and aesthetics (how data is represented and decorated).\n"
   ]
  },
  {
   "cell_type": "markdown",
   "metadata": {
    "slideshow": {
     "slide_type": "slide"
    }
   },
   "source": [
    "# 2. A critical review of visualization examples\n",
    "\n",
    "### Steps of review of visualization examples\n",
    "1. First examine the original visualization\n",
    "2. Then attempt to reproduce the visualization\n",
    "3. Lastly provide comments according to our review criteria "
   ]
  },
  {
   "cell_type": "markdown",
   "metadata": {
    "slideshow": {
     "slide_type": "slide"
    }
   },
   "source": [
    "# 2. A critical review of visualization examples\n",
    "### Example 1. Confirmed case of COVID-19 by country from Fox News\n",
    "### Original Visualization\n",
    "[Image origin](https://twitter.com/dancow/status/1240316761171427328/photo/1). Captured date: March 18, 2020\n",
    "![Total number of patients](https://pbs.twimg.com/media/ETZ9a07WsAAcQvP?format=jpg&name=small)"
   ]
  },
  {
   "cell_type": "markdown",
   "metadata": {
    "slideshow": {
     "slide_type": "slide"
    }
   },
   "source": [
    "# 2. A critical review of visualization examples\n",
    "### Example 1. Confirmed case of COVID-19 by country from Fox News\n",
    "### Reproducibility"
   ]
  },
  {
   "cell_type": "code",
   "execution_count": 27,
   "metadata": {
    "slideshow": {
     "slide_type": "slide"
    }
   },
   "outputs": [],
   "source": [
    "import numpy as np\n",
    "import pandas as pd\n",
    "import matplotlib.pyplot as plt\n",
    "from scipy import interpolate\n",
    "import cartopy\n",
    "import cartopy.io.shapereader as shpreader\n",
    "import cartopy.crs as ccrs\n",
    "\n",
    "death_data = pd.read_csv(\"https://covid.ourworldindata.org/data/ecdc/total_deaths.csv\")\n",
    "march_18 = death_data[death_data[\"date\"] == \"2020-03-18\"]\n",
    "records = march_18.fillna(-1).reset_index().to_dict()\n",
    "records = {key: val[0] for key, val in records.items()}\n",
    "records[\"United States of America\"] = records[\"United States\"] \n",
    "del records[\"United States\"] \n",
    "del records[\"index\"]\n",
    "del records[\"World\"]\n",
    "del records[\"date\"]"
   ]
  },
  {
   "cell_type": "code",
   "execution_count": 28,
   "metadata": {
    "slideshow": {
     "slide_type": "slide"
    }
   },
   "outputs": [],
   "source": [
    "# record_names = set(records.keys())\n",
    "# map_country_names = set(map(lambda country: country.attributes[\"ADMIN\"], countries))\n",
    "# in the record but not in the map\n",
    "# record_names - map_country_names\n",
    "# on the map but not in the records\n",
    "# map_country_names - record_names\n",
    "\n",
    "def death_2_color(death: int) -> tuple:\n",
    "    if death < 0:\n",
    "        return (0,1,1) # aqua, indicating no data\n",
    "    elif death <= 10:\n",
    "        return (1, 1, 0) # dim yellow\n",
    "    elif death <= 25:\n",
    "        return (1, 0.5, 0) # orange\n",
    "    elif death <= 50:\n",
    "        return (1, 0, 0) # orange\n",
    "    elif death <= 100:\n",
    "        return (1, 0, 0) # red\n",
    "    elif death <= 1000:\n",
    "        return (1, 0, 0) # red\n",
    "    elif death <= 10000:\n",
    "        return (1, 0, 0) # red\n",
    "    else:\n",
    "        return (1, 0, 0) # red"
   ]
  },
  {
   "cell_type": "code",
   "execution_count": 29,
   "metadata": {
    "slideshow": {
     "slide_type": "slide"
    }
   },
   "outputs": [],
   "source": [
    "%%capture\n",
    "# https://gis.stackexchange.com/questions/88209/python-mapping-in-matplotlib-cartopy-color-one-country\n",
    "fig = plt.figure(figsize=(20,10))\n",
    "ax = plt.axes(projection=ccrs.PlateCarree())\n",
    "ax.add_feature(cartopy.feature.OCEAN)\n",
    "ax.set_extent([-150, 60, -25, 60])\n",
    "shpfilename = shpreader.natural_earth(resolution='110m',\n",
    "                                      category='cultural',\n",
    "                                      name='admin_0_countries')\n",
    "reader = shpreader.Reader(shpfilename)\n",
    "countries = list(reader.records())\n",
    "for country in countries:\n",
    "    country_name = country.attributes['ADMIN']\n",
    "    try:\n",
    "        country_color = death_2_color(records[country_name])\n",
    "    except: \n",
    "        country_color = (0,1,1) # default no data\n",
    "    ax.add_geometries([country.geometry], \n",
    "                      ccrs.PlateCarree(),\n",
    "                      facecolor=country_color,\n",
    "                      label=country_name\n",
    "                     )"
   ]
  },
  {
   "cell_type": "markdown",
   "metadata": {
    "slideshow": {
     "slide_type": "slide"
    }
   },
   "source": [
    "![covid_map](https://i.ibb.co/MNq89vp/world-covid.png)"
   ]
  },
  {
   "cell_type": "markdown",
   "metadata": {
    "slideshow": {
     "slide_type": "slide"
    }
   },
   "source": [
    "## What about the actual confirmed cases of the red group?"
   ]
  },
  {
   "cell_type": "code",
   "execution_count": 30,
   "metadata": {
    "slideshow": {
     "slide_type": "slide"
    }
   },
   "outputs": [
    {
     "data": {
      "text/plain": [
       "[('United Kingdom', 82.0),\n",
       " ('South Korea', 86.0),\n",
       " ('United States of America', 108.0),\n",
       " ('France', 175.0),\n",
       " ('Spain', 491.0),\n",
       " ('Iran', 988.0),\n",
       " ('Italy', 2505.0),\n",
       " ('China', 3241.0)]"
      ]
     },
     "execution_count": 30,
     "metadata": {},
     "output_type": "execute_result"
    }
   ],
   "source": [
    "sorted([(country, death) for country, death in records.items() if death >= 50], key = lambda x: x[1])"
   ]
  },
  {
   "cell_type": "markdown",
   "metadata": {
    "slideshow": {
     "slide_type": "slide"
    }
   },
   "source": [
    "### Comments\n",
    "1. The visualization tries to represent the number of confirmed cases of COVID-19 by country.\n",
    "2. The quality of the data source seems to be good enough considering the releasing time\n",
    "    1. No data source is provided.\n",
    "3. The visualization used color to represent the number, which is a bad decision.\n",
    "    1. No visual differences for countries with death toll more than 50.\n",
    "    2. Geological size differences of countries influence judgement. Countries like Italy, Iran and Spain need more `visual attention`.\n",
    "    "
   ]
  },
  {
   "cell_type": "markdown",
   "metadata": {
    "slideshow": {
     "slide_type": "slide"
    }
   },
   "source": [
    "# 2. A critical review of visualization examples\n",
    "### Example 2. New Cases Per Day from Fox News\n",
    "### Original Visualization\n",
    " \n",
    " 1. [Image Origin](https://twitter.com/Jennmparks/status/1248364415260315653) Captured date: April 9, 2020\n",
    " ![New Cases Per Day](https://pbs.twimg.com/media/EVMU0bJU0AA7DTe?format=jpg&name=small)"
   ]
  },
  {
   "cell_type": "markdown",
   "metadata": {
    "slideshow": {
     "slide_type": "slide"
    }
   },
   "source": [
    "# 2. A critical review of visualization examples\n",
    "### Example 2. New Cases Per Day by Fox News\n",
    "### Reproducibility"
   ]
  },
  {
   "cell_type": "code",
   "execution_count": 31,
   "metadata": {
    "slideshow": {
     "slide_type": "slide"
    }
   },
   "outputs": [],
   "source": [
    "%%capture\n",
    "figure, ax = plt.subplots(1,2,figsize=(16,8),tight_layout=True)\n",
    "dates =  pd.date_range('2020-03-18', periods=15, freq='D')\n",
    "daily_cases = [33,61,86,112,116,129,192,174,344,304,327,246,320,339,376]\n",
    "plt.rcParams.update({'font.size': 22})\n",
    "ax[0].set_yticks(np.linspace(0,400,11))\n",
    "ax[0].plot( dates,daily_cases, label=\"Daily Cases\", marker=\"o\", \n",
    "           markersize=20,linewidth=8)\n",
    "ax[0].legend()\n",
    "ax[0].tick_params(axis='x', which='major', labelsize=10)\n",
    "for x,y in zip(dates, daily_cases): \n",
    "    ax[0].text(x, y, str(y))\n",
    "ticks = [30, 60,90,100,130,160,190,240,250,300,350,400]\n",
    "ax[1].set_yticks(ticks)\n",
    "daily_cases_mapped = interpolate.interp1d(ticks, np.linspace(0,400,12))(daily_cases)  \n",
    "# https://stackoverflow.com/questions/30234921/python-plot-unevenly-distributed-axis\n",
    "ax[1].plot(dates,daily_cases_mapped, label=\"Daily Cases \\n(Fox News Scale)\", marker=\"o\",\n",
    "           markersize=20,linewidth=8)\n",
    "ax[1].legend()\n",
    "ax[1].tick_params(axis='x', which='major', labelsize=10)\n",
    "ax[1].yaxis.set_ticks(np.linspace(0,400,12))\n",
    "# https://stackoverflow.com/questions/39540730/how-to-make-xticks-evenly-spaced-despite-their-value\n",
    "ax[1].yaxis.set_ticklabels(ticks)\n",
    "for x,y in zip(dates, daily_cases): \n",
    "    ax[1].text(x, y, str(y))"
   ]
  },
  {
   "cell_type": "markdown",
   "metadata": {
    "slideshow": {
     "slide_type": "slide"
    }
   },
   "source": [
    "![](https://i.ibb.co/HHGh7k4/download.png)"
   ]
  },
  {
   "cell_type": "markdown",
   "metadata": {
    "slideshow": {
     "slide_type": "slide"
    }
   },
   "source": [
    "### Comments\n",
    "1. The visualization tries to present the daily confirmed case in the United States\n",
    "2. The quality of the data source seems to be good enough considering the releasing time\n",
    "    1. No data source is provided.\n",
    "3. The visualization used an uneven scale for no obvious reason\n",
    "    1. The accelerating increasing trend (What we see is daily new cases, not total cases) is downplayed\n",
    "    2. However, the downplay is **hidden**, at the boundary of **misleading**."
   ]
  },
  {
   "cell_type": "markdown",
   "metadata": {
    "slideshow": {
     "slide_type": "slide"
    }
   },
   "source": [
    "### Additional comments\n",
    "> There are quite a lot of graphics from Fox News that you can find misleading. For example, the one below.\n",
    "\n",
    "[image origin](https://www.mediamatters.org/fox-news/dishonest-fox-charts-obamacare-enrollment-edition). captured March, 2014\n",
    "\n",
    "![Obamacare historical ](https://pbs.twimg.com/media/CTilLd3UsAAR7fG?format=jpg&name=small)"
   ]
  },
  {
   "cell_type": "markdown",
   "metadata": {
    "slideshow": {
     "slide_type": "slide"
    }
   },
   "source": [
    "# 2. A critical review of visualization examples\n",
    "### Example 3. A Context-free visualization\n",
    "### Original Visualization\n",
    "> Quoting the twitter [user](https://twitter.com/JohnBeaudoinSr/status/1272540900355461120?s=20) : I wrote 11 papers on COVID-19, masks, Sweden, etc. CNN, MSNBC, BBC, NYTimes, WaPo, even Fox lie daily.  Data analysis shows differently than the narratives they push.  Normalized graph below.  COVID-19 follows standard curve with and without mitigation measures."
   ]
  },
  {
   "cell_type": "markdown",
   "metadata": {
    "slideshow": {
     "slide_type": "slide"
    }
   },
   "source": [
    "![](https://pbs.twimg.com/media/Eaj42D7WsAEaC8O?format=jpg&name=small)"
   ]
  },
  {
   "cell_type": "markdown",
   "metadata": {
    "slideshow": {
     "slide_type": "slide"
    }
   },
   "source": [
    "# 2. A critical review of visualization examples\n",
    "### Example 3. A Context-free visualization\n",
    "###  Reproducibility (attempt)\n",
    "\n",
    "There is no context about this visualization. The x-axis seems to be a time-like series but the y-axis is confusing.\n",
    "\n",
    "Since the y-axis scale is a float number between 0 and 1. I tried to search for the [transmission rate](https://en.wikipedia.org/wiki/Transmission_risks_and_rates). However, the transmission rate for Massachusetts was never below 0.7 in 2020 since the outbreak of the virus. \n",
    "\n",
    "I failed to reproduce this visualization. If you know how, please let me know."
   ]
  },
  {
   "cell_type": "code",
   "execution_count": 32,
   "metadata": {
    "slideshow": {
     "slide_type": "slide"
    }
   },
   "outputs": [
    {
     "data": {
      "image/png": "[encoded data removed]",
      "text/plain": [
       "<Figure size 1440x360 with 1 Axes>"
      ]
     },
     "metadata": {
      "needs_background": "light"
     },
     "output_type": "display_data"
    }
   ],
   "source": [
    "# transmission rate of Massachusetts\n",
    "# https://stackoverflow.com/questions/12608788/changing-the-tick-frequency-on-x-or-y-axis-in-matplotlib\n",
    "import matplotlib.dates as dates\n",
    "# https://rt.live/\n",
    "tr = pd.read_csv(\"https://d14wlfuexuxgcm.cloudfront.net/covid/rt.csv\")\n",
    "ma = tr[tr.region == \"MA\"][[\"date\",\"mean\"]]\n",
    "plt.figure(figsize=(20,5),tight_layout=True)\n",
    "plt.plot(ma[\"date\"],ma[\"mean\"]);\n",
    "plt.xticks(np.arange(0, ma.shape[0]+1, 30))\n",
    "plt.title(\"Transsmission Rate of Massachusetts\");"
   ]
  },
  {
   "cell_type": "markdown",
   "metadata": {
    "slideshow": {
     "slide_type": "slide"
    }
   },
   "source": [
    "### Comments\n",
    "1. The visualization doesn't identify what issues it addresses or information it conveys.\n",
    "2. There is **no** specification about the source of the data.\n",
    "    1. No data source is provided.\n",
    "3. The visualization has **no label**, **no scale** and **no title**. It conveys no information at all."
   ]
  },
  {
   "cell_type": "markdown",
   "metadata": {
    "slideshow": {
     "slide_type": "slide"
    }
   },
   "source": [
    "# 2. A critical review of visualization examples\n",
    "### Example 4. A comparison of COVID-19 cases and 5G tower installation\n",
    "### Original Visualization\n",
    "\n",
    "[original tweet](https://twitter.com/mona_cajun/status/1241921125665275904), March, 22, 2020\n",
    "> Quote from original post: 5G = #InfrasoundWeapon Eyes COVID 19 Map / 5G Map #SPECTRUM is Down in #Hawaii !! Thank you Q! #QAnon\n",
    "\n",
    "> Quote from original post: Yep. That originated in Wuhan, where 5G was first introduced.\n",
    "By Huawei.\n",
    "\n",
    "> As October 2020, the Twitter user has limited access to his/her account."
   ]
  },
  {
   "cell_type": "markdown",
   "metadata": {
    "slideshow": {
     "slide_type": "slide"
    }
   },
   "source": [
    "![5G and Covid](https://miro.medium.com/max/500/1*HmCYZ9hG6kN3GuV84T48lw.jpeg)"
   ]
  },
  {
   "cell_type": "markdown",
   "metadata": {
    "slideshow": {
     "slide_type": "slide"
    }
   },
   "source": [
    "# 2. A critical review of visualization examples\n",
    "### Example 4. A comparison of COVID-19 cases and 5G tower installation\n",
    "###  Reproducibility\n",
    "I didn't find reliable data for the 5G tower installation in the United States. When the data is available, I will update the reproducibility in the GitHub [repo](https://github.com/rongpenl/pydata-global-covid-visualization)."
   ]
  },
  {
   "cell_type": "markdown",
   "metadata": {
    "slideshow": {
     "slide_type": "slide"
    }
   },
   "source": [
    "### Comments\n",
    "1. The visualization tries to establish a cause-effect relationship between 5G tower installation and COVID-19 cases. The implied information is that 5G is the cause of COVID-19.\n",
    "2. The visualization shows two images from different sources in parallel. One image is from New York Times, using semi-transparent circles to represent the number of confirmed COVID-19 cases. Another one is from an unknown source, claiming to be the number of installed 5G towers. **I couldn't identify the source of the image or the data source of the image**.\n",
    "3. The visualization has **no label**, **no scale** and **no title**. However, it is one of the most popular visualization for the 5G conspiracy theory."
   ]
  },
  {
   "cell_type": "markdown",
   "metadata": {
    "slideshow": {
     "slide_type": "slide"
    }
   },
   "source": [
    "### Comments (Cont'd)\n",
    "The mistake in the visualization is the false reasoning of `causality`. \n",
    "\n",
    "The simultaneousness of two events don't necessarily establish the causality between two events.\n",
    "\n",
    "There is a confouding factor in this case: population. For example, mobile service providers will priorities 5G tower building in areas with high population density. COVID-19 is also likely to spread faster in area where population density is high. \n",
    "\n",
    "Here is a [retracted research](https://pubmed.ncbi.nlm.nih.gov/32668870/) about the causality between COVID-19 and 5G.\n",
    "\n",
    "[Confounding factor image from Wikipedia](https://en.wikipedia.org/wiki/Confounding)\n",
    "![confounding](https://upload.wikimedia.org/wikipedia/commons/d/d5/Confounding.PNG)"
   ]
  },
  {
   "cell_type": "markdown",
   "metadata": {
    "slideshow": {
     "slide_type": "slide"
    }
   },
   "source": [
    "### Comments (Cont'd)\n",
    "Taco bell locations. [source](https://twitter.com/KampourakisK/status/1305764917153325056)\n",
    "\n",
    "![taco bell](https://pbs.twimg.com/media/Eh8A0tTXcAAoi1d?format=jpg&name=small)"
   ]
  },
  {
   "cell_type": "markdown",
   "metadata": {
    "slideshow": {
     "slide_type": "slide"
    }
   },
   "source": [
    "### Comments (Cont'd)\n",
    "US populations. [source](https://twitter.com/KampourakisK/status/1305764917153325056)\n",
    "![US populations](https://pbs.twimg.com/media/Eh8BAq0X0AImhWb?format=jpg&name=small)"
   ]
  },
  {
   "cell_type": "markdown",
   "metadata": {
    "slideshow": {
     "slide_type": "slide"
    }
   },
   "source": [
    "### Comments (Cont'd)\n",
    "Sometimes, there is no confounding factor. The correlation is pure illusion.\n",
    "[source](https://gigazine.net/gsc_news/en/20170403-correlation-causation/)\n",
    "\n",
    "![](http://i.gzn.jp/img/2017/04/03/correlation-causation/00_m.png)"
   ]
  },
  {
   "cell_type": "markdown",
   "metadata": {
    "slideshow": {
     "slide_type": "slide"
    }
   },
   "source": [
    "[source](https://gigazine.net/gsc_news/en/20170403-correlation-causation/)\n",
    "![](http://i.gzn.jp/img/2017/04/03/correlation-causation/004_m.png)"
   ]
  },
  {
   "cell_type": "markdown",
   "metadata": {
    "slideshow": {
     "slide_type": "slide"
    }
   },
   "source": [
    "# 3. Lessons learned\n",
    "\n",
    "#### As a visualization creator.\n",
    "\n",
    "1. Always ensure the quality of your data. Garbage in, garbage out.\n",
    "2. Provide fully reproducible codes for your visualization.\n",
    "3. Choose the right aesthetics for the right information.\n",
    "4. Be ethical, never mislead audience (or your manager) on purpose."
   ]
  },
  {
   "cell_type": "markdown",
   "metadata": {
    "slideshow": {
     "slide_type": "slide"
    }
   },
   "source": [
    "# 3. Lessons learned (Cont'd)\n",
    "#### As a visualization audience\n",
    "\n",
    "1. Always check the data source quality.\n",
    "2. Identify the reputation track of the visualization creator.\n",
    "3. Be aware of the relationship between visual elements and the statistical information.\n",
    "    1. For example, colorfulness is usually not a good quantitative measure of quantity due to perception differences.\n",
    "    2. Be self-aware that whether you are enjoying **art** or extracting **information**.\n",
    "4. Be a critical thinker. Always ask questions like a 3rd reviewer."
   ]
  }
 ],
 "metadata": {
  "celltoolbar": "Slideshow",
  "kernelspec": {
   "display_name": "Python 3",
   "language": "python",
   "name": "python3"
  },
  "language_info": {
   "codemirror_mode": {
    "name": "ipython",
    "version": 3
   },
   "file_extension": ".py",
   "mimetype": "text/x-python",
   "name": "python",
   "nbconvert_exporter": "python",
   "pygments_lexer": "ipython3",
   "version": "3.8.5"
  }
 },
 "nbformat": 4,
 "nbformat_minor": 4
}
